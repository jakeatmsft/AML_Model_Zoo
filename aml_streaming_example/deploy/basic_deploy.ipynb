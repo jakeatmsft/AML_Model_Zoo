{
  "cells": [
    {
      "cell_type": "markdown",
      "source": [],
      "metadata": {}
    },
    {
      "attachments": {},
      "cell_type": "markdown",
      "source": [
        "# 1. Connect to Azure Machine Learning"
      ],
      "metadata": {}
    },
    {
      "attachments": {},
      "cell_type": "markdown",
      "source": [
        "### 1.2 Set workspace details"
      ],
      "metadata": {}
    },
    {
      "cell_type": "code",
      "source": [
        "# enter details of your AML workspace\n",
        "SUBSCRIPTION_ID = \"sub\"\n",
        "RESOURCE_GROUP = \"rg\"\n",
        "AML_WORKSPACE_NAME = \"workspace\"\n",
        "AZURE_AI_SERVICES_NAME = \"<AZURE_AI_SERVICES_NAME>\""
      ],
      "outputs": [],
      "execution_count": 21,
      "metadata": {
        "gather": {
          "logged": 1726764709197
        }
      }
    },
    {
      "attachments": {},
      "cell_type": "markdown",
      "source": [
        "### 1.3 Login to your Azure account"
      ],
      "metadata": {}
    },
    {
      "cell_type": "code",
      "source": [
        "# Authenticate clients\n",
        "from azure.identity import (\n",
        "    DefaultAzureCredential,\n",
        "    InteractiveBrowserCredential,\n",
        "    AzureCliCredential,\n",
        ")\n",
        "\n",
        "try:\n",
        "    credential = DefaultAzureCredential(additionally_allowed_tenants=[\"*\"])\n",
        "except Exception as ex:\n",
        "    # Fall back to InteractiveBrowserCredential in case DefaultAzureCredential not work\n",
        "    credential = InteractiveBrowserCredential(additionally_allowed_tenants=[\"*\"])\n",
        "\n",
        "# If login doesn't work above, uncomment the code below and login using device code\n",
        "# !az login --use-device-code"
      ],
      "outputs": [],
      "execution_count": 22,
      "metadata": {
        "gather": {
          "logged": 1726770772649
        }
      }
    },
    {
      "attachments": {},
      "cell_type": "markdown",
      "source": [
        "# 2. Managed Online Endpoint"
      ],
      "metadata": {}
    },
    {
      "cell_type": "code",
      "source": [
        "# create a endpoint\n",
        "import datetime\n",
        "\n",
        "from azure.ai.ml.entities import (\n",
        "    ManagedOnlineEndpoint,\n",
        ")\n",
        "\n",
        "from azure.ai.ml import (\n",
        "    MLClient,\n",
        ")\n",
        "\n",
        "from azure.ai.ml.entities import (\n",
        "    ManagedOnlineDeployment,\n",
        "    OnlineRequestSettings,\n",
        "    Model,\n",
        "    Environment,\n",
        ")"
      ],
      "outputs": [],
      "execution_count": 36,
      "metadata": {
        "gather": {
          "logged": 1726771617318
        }
      }
    },
    {
      "cell_type": "code",
      "source": [
        "time = str(datetime.datetime.now().strftime(\"%m%d%H%M%f\"))"
      ],
      "outputs": [],
      "execution_count": 25,
      "metadata": {
        "jupyter": {
          "source_hidden": false,
          "outputs_hidden": false
        },
        "nteract": {
          "transient": {
            "deleting": false
          }
        },
        "gather": {
          "logged": 1726770775644
        }
      }
    },
    {
      "cell_type": "code",
      "source": [
        "online_endpoint_name = f\"aml-llm-lc-demo-{time}\"\n",
        "\n",
        "\n",
        "# get a handle to the workspace\n",
        "ml_client = MLClient(credential, SUBSCRIPTION_ID, RESOURCE_GROUP, AML_WORKSPACE_NAME)"
      ],
      "outputs": [],
      "execution_count": 26,
      "metadata": {
        "jupyter": {
          "source_hidden": false,
          "outputs_hidden": false
        },
        "nteract": {
          "transient": {
            "deleting": false
          }
        },
        "gather": {
          "logged": 1726770777954
        }
      }
    },
    {
      "cell_type": "code",
      "source": [
        "# create an online endpoint\n",
        "endpoint = ManagedOnlineEndpoint(\n",
        "    name=online_endpoint_name,\n",
        "    description=\"online endpoint for streaming example\",\n",
        "    auth_mode=\"key\",\n",
        ")\n",
        "\n",
        "endpoint = ml_client.begin_create_or_update(endpoint).result()\n",
        "\n",
        "print(endpoint)"
      ],
      "outputs": [],
      "execution_count": null,
      "metadata": {
        "jupyter": {
          "source_hidden": false,
          "outputs_hidden": false
        },
        "nteract": {
          "transient": {
            "deleting": false
          }
        }
      }
    },
    {
      "cell_type": "code",
      "source": [
        "# assign the Cognitive Services User role to the endpoint\n",
        "endpoint_principal_id = endpoint.identity.principal_id\n",
        "!az role assignment create --assignee-principal-type ServicePrincipal --assignee-object-id {endpoint_principal_id} --role \"Cognitive Services User\" --scope /subscriptions/{SUBSCRIPTION_ID}/resourceGroups/{RESOURCE_GROUP}/providers/Microsoft.CognitiveServices/accounts/{AZURE_AI_SERVICES_NAME}"
      ],
      "outputs": [
        {
          "output_type": "stream",
          "name": "stdout",
          "text": "/bin/bash: -c: line 0: syntax error near unexpected token `newline'\r\n/bin/bash: -c: line 0: `az role assignment create --assignee-principal-type ServicePrincipal --assignee-object-id b06d0fcb-bf08-4327-bdea-147c6a27fcda --role \"Cognitive Services User\" --scope /subscriptions/6025ba02-1dfd-407f-b358-88f811c7c7aa/resourceGroups/sc1-ml1/providers/Microsoft.CognitiveServices/accounts/<AZURE_AI_SERVICES_NAME>'\r\n"
        }
      ],
      "execution_count": 4,
      "metadata": {
        "gather": {
          "logged": 1726595838232
        }
      }
    },
    {
      "cell_type": "markdown",
      "source": [
        "### Register Model"
      ],
      "metadata": {}
    },
    {
      "cell_type": "code",
      "source": [
        "#Register model to workspace model registry\n",
        "model=Model(name=\"stream_demo\",path=\"../src/stream_model\")\n",
        "ml_client.models.create_or_update(model)\n",
        "\n",
        "reg_model = ml_client.models.get(\"stream_demo\", label=\"latest\")"
      ],
      "outputs": [
        {
          "output_type": "stream",
          "name": "stderr",
          "text": "\r\u001b[32mUploading stream_model (0.31 MBs):   0%|          | 0/310854 [00:00<?, ?it/s]\r\u001b[32mUploading stream_model (0.31 MBs):   0%|          | 373/310854 [00:00<01:36, 3220.70it/s]\r\u001b[32mUploading stream_model (0.31 MBs): 100%|██████████| 310854/310854 [00:00<00:00, 2149858.65it/s]\n\u001b[39m\n\n"
        }
      ],
      "execution_count": 27,
      "metadata": {
        "jupyter": {
          "source_hidden": false,
          "outputs_hidden": false
        },
        "nteract": {
          "transient": {
            "deleting": false
          }
        },
        "gather": {
          "logged": 1726770797208
        }
      }
    },
    {
      "attachments": {},
      "cell_type": "markdown",
      "source": [
        "# 3. Deploy to Endpoint"
      ],
      "metadata": {}
    },
    {
      "cell_type": "code",
      "source": [
        "reg_env = ml_client.environments.create_or_update(Environment(name='stream_demo_env', image='mcr.microsoft.com/azureml/curated/minimal-app-quickstart:7'))"
      ],
      "outputs": [],
      "execution_count": 38,
      "metadata": {
        "jupyter": {
          "source_hidden": false,
          "outputs_hidden": false
        },
        "nteract": {
          "transient": {
            "deleting": false
          }
        },
        "gather": {
          "logged": 1726771692378
        }
      }
    },
    {
      "cell_type": "code",
      "source": [
        "deployment_name = f\"deploy-{time}-4\"\n",
        "lc_deployment = ManagedOnlineDeployment(\n",
        "    name=deployment_name,\n",
        "    environment=reg_env,\n",
        "    model=reg_model,\n",
        "    request_settings=OnlineRequestSettings(request_timeout_ms=60000),\n",
        "    endpoint_name=online_endpoint_name,\n",
        "    instance_type=\"Standard_F2s_v2\",\n",
        "    instance_count=1,\n",
        ")\n",
        "ml_client.online_deployments.begin_create_or_update(lc_deployment).result()\n",
        "\n",
        "endpoint.traffic = {deployment_name: 100}\n",
        "ml_client.begin_create_or_update(endpoint).result()"
      ],
      "outputs": [
        {
          "output_type": "stream",
          "name": "stderr",
          "text": "Check: endpoint basic-chat-endpoint-sdk exists\nReadonly attribute principal_id will be ignored in class <class 'azure.ai.ml._restclient.v2022_05_01.models._models_py3.ManagedServiceIdentity'>\nReadonly attribute tenant_id will be ignored in class <class 'azure.ai.ml._restclient.v2022_05_01.models._models_py3.ManagedServiceIdentity'>\n"
        },
        {
          "output_type": "stream",
          "name": "stdout",
          "text": "............................................"
        },
        {
          "output_type": "execute_result",
          "execution_count": 40,
          "data": {
            "text/plain": "ManagedOnlineEndpoint({'public_network_access': 'Enabled', 'provisioning_state': 'Succeeded', 'scoring_uri': 'https://basic-chat-endpoint-sdk.southcentralus.inference.ml.azure.com/', 'openapi_uri': 'https://basic-chat-endpoint-sdk.southcentralus.inference.ml.azure.com/swagger.json', 'name': 'basic-chat-endpoint-sdk', 'description': 'this is a sample endpoint', 'tags': {}, 'properties': {'createdBy': 'Jake Wang', 'createdAt': '2024-09-06T22:00:39.135351+0000', 'lastModifiedAt': '2024-09-06T22:00:39.135351+0000', 'azureml.onlineendpointid': '/subscriptions/6025ba02-1dfd-407f-b358-88f811c7c7aa/resourcegroups/sc1-ml1/providers/microsoft.machinelearningservices/workspaces/sc1ml1/onlineendpoints/basic-chat-endpoint-sdk', 'AzureAsyncOperationUri': 'https://management.azure.com/subscriptions/6025ba02-1dfd-407f-b358-88f811c7c7aa/providers/Microsoft.MachineLearningServices/locations/southcentralus/mfeOperationsStatus/oeidp:a2f597f4-1a31-4e25-9c39-aa7e2d3b6df0:c5bec0d9-fcda-401d-828e-a2693d7b0b01?api-version=2022-02-01-preview'}, 'print_as_yaml': False, 'id': '/subscriptions/6025ba02-1dfd-407f-b358-88f811c7c7aa/resourceGroups/sc1-ml1/providers/Microsoft.MachineLearningServices/workspaces/sc1ml1/onlineEndpoints/basic-chat-endpoint-sdk', 'Resource__source_path': '', 'base_path': '/mnt/batch/tasks/shared/LS_root/mounts/clusters/jacwang1/code/Users/jacwang/AML_Model_Zoo/aml_streaming_example/deploy', 'creation_context': None, 'serialize': <msrest.serialization.Serializer object at 0x7f0c1cb256c0>, 'auth_mode': 'key', 'location': 'southcentralus', 'identity': <azure.ai.ml.entities._credentials.IdentityConfiguration object at 0x7f0c1cb26950>, 'traffic': {'deploy-09191832021151-4': 100}, 'mirror_traffic': {}, 'kind': 'Managed'})"
          },
          "metadata": {}
        }
      ],
      "execution_count": 40,
      "metadata": {
        "jupyter": {
          "source_hidden": false,
          "outputs_hidden": false
        },
        "nteract": {
          "transient": {
            "deleting": false
          }
        },
        "gather": {
          "logged": 1726771975495
        }
      }
    },
    {
      "attachments": {},
      "cell_type": "markdown",
      "source": [
        "# 4. Test\n",
        "Now endpoint has been deployed, let's test it."
      ],
      "metadata": {}
    },
    {
      "cell_type": "code",
      "source": [
        "import urllib.request\n",
        "import json\n",
        "import os\n",
        "import ssl\n",
        "import requests\n",
        "\n",
        "def allowSelfSignedHttps(allowed):\n",
        "    # bypass the server certificate verification on client side\n",
        "    if allowed and not os.environ.get('PYTHONHTTPSVERIFY', '') and getattr(ssl, '_create_unverified_context', None):\n",
        "        ssl._create_default_https_context = ssl._create_unverified_context\n",
        "\n",
        "allowSelfSignedHttps(True) # this line is needed if you use self-signed certificate in your scoring service.\n",
        "\n",
        "data = {}\n",
        "\n",
        "body = str.encode(json.dumps(data))\n",
        "\n",
        "url = '<endpoint>/stream'\n",
        "# Replace this with the primary/secondary key, AMLToken, or Microsoft Entra ID token for the endpoint\n",
        "api_key = '<key>'\n",
        "if not api_key:\n",
        "    raise Exception(\"A key should be provided to invoke the endpoint\")\n",
        "\n",
        "headers = {'Content-Type':'application/json', 'Authorization':('Bearer '+ api_key)}\n",
        "\n",
        "with requests.get(url=url, headers=headers, stream=True) as r:\n",
        "    for chunk in r.iter_content(5):  # or, for line in r.iter_lines():\n",
        "        print(chunk)"
      ],
      "outputs": [
        {
          "output_type": "stream",
          "name": "stdout",
          "text": "b'Lorem'\nb'ipsum'\nb'dolor'\nb'sit'\nb'amet,'\nb'conse'\nb'ctetu'\nb'r'\nb'adipi'\nb'scing'\nb'elit.'\nb'Sed'\nb'do'\nb'eiusm'\nb'od'\nb'tempo'\nb'r'\nb'incid'\nb'idunt'\nb'ut'\nb'labor'\nb'e'\nb'et'\nb'dolor'\nb'e'\nb'magna'\nb'aliqu'\nb'a.'\nb'Ut'\nb'enim'\nb'ad'\nb'minim'\nb'venia'\nb'm,'\nb'quis'\nb'nostr'\nb'ud'\nb'exerc'\nb'itati'\nb'on'\nb'ullam'\nb'co'\nb'labor'\nb'is'\nb'nisi'\nb'ut'\nb'aliqu'\nb'ip'\nb'ex'\nb'ea'\nb'commo'\nb'do'\nb'conse'\nb'quat.'\nb'Duis'\nb'aute'\nb'irure'\nb'dolor'\nb'in'\nb'repre'\nb'hende'\nb'rit'\nb'in'\nb'volup'\nb'tate'\nb'velit'\nb'esse'\nb'cillu'\nb'm'\nb'dolor'\nb'e'\nb'eu'\nb'fugia'\nb't'\nb'nulla'\nb'paria'\nb'tur.'\nb'Excep'\nb'teur'\nb'sint'\nb'occae'\nb'cat'\nb'cupid'\nb'atat'\nb'non'\nb'proid'\nb'ent,'\nb'sunt'\nb'in'\nb'culpa'\nb'qui'\nb'offic'\nb'ia'\nb'deser'\nb'unt'\nb'molli'\nb't'\nb'anim'\nb'id'\nb'est'\nb'labor'\nb'um.'\n"
        }
      ],
      "execution_count": 41,
      "metadata": {
        "gather": {
          "logged": 1726772795336
        }
      }
    },
    {
      "cell_type": "code",
      "source": [
        "with requests.get(url=url, headers=headers, stream=True) as r:\n",
        "    for chunk in r.iter_content(5):  # or, for line in r.iter_lines():\n",
        "        print(chunk)"
      ],
      "outputs": [
        {
          "output_type": "stream",
          "name": "stdout",
          "text": "b'Lorem'\nb'ipsum'\nb'dolor'\nb'sit'\nb'amet,'\nb'conse'\nb'ctetu'\nb'r'\nb'adipi'\nb'scing'\nb'elit.'\nb'Sed'\nb'do'\nb'eiusm'\nb'od'\nb'tempo'\nb'r'\nb'incid'\nb'idunt'\nb'ut'\nb'labor'\nb'e'\nb'et'\nb'dolor'\nb'e'\nb'magna'\nb'aliqu'\nb'a.'\nb'Ut'\nb'enim'\nb'ad'\nb'minim'\nb'venia'\nb'm,'\nb'quis'\nb'nostr'\nb'ud'\nb'exerc'\nb'itati'\nb'on'\nb'ullam'\nb'co'\nb'labor'\nb'is'\nb'nisi'\nb'ut'\nb'aliqu'\nb'ip'\nb'ex'\nb'ea'\nb'commo'\nb'do'\nb'conse'\nb'quat.'\nb'Duis'\nb'aute'\nb'irure'\nb'dolor'\nb'in'\nb'repre'\nb'hende'\nb'rit'\nb'in'\nb'volup'\nb'tate'\nb'velit'\nb'esse'\nb'cillu'\nb'm'\nb'dolor'\nb'e'\nb'eu'\nb'fugia'\nb't'\nb'nulla'\nb'paria'\nb'tur.'\nb'Excep'\nb'teur'\nb'sint'\nb'occae'\nb'cat'\nb'cupid'\nb'atat'\nb'non'\nb'proid'\nb'ent,'\nb'sunt'\nb'in'\nb'culpa'\nb'qui'\nb'offic'\nb'ia'\nb'deser'\nb'unt'\nb'molli'\nb't'\nb'anim'\nb'id'\nb'est'\nb'labor'\nb'um.'\n"
        }
      ],
      "execution_count": 9,
      "metadata": {
        "jupyter": {
          "source_hidden": false,
          "outputs_hidden": false
        },
        "nteract": {
          "transient": {
            "deleting": false
          }
        },
        "gather": {
          "logged": 1726596765550
        }
      }
    },
    {
      "cell_type": "markdown",
      "source": [
        "# 5. Clean up resources"
      ],
      "metadata": {}
    },
    {
      "cell_type": "code",
      "source": [
        "ml_client.online_endpoints.begin_delete(name=online_endpoint_name)"
      ],
      "outputs": [
        {
          "output_type": "execute_result",
          "execution_count": 10,
          "data": {
            "text/plain": "<azure.core.polling._poller.LROPoller at 0x7f0c103305b0>"
          },
          "metadata": {}
        },
        {
          "output_type": "stream",
          "name": "stdout",
          "text": "..........."
        }
      ],
      "execution_count": 10,
      "metadata": {
        "gather": {
          "logged": 1726597085814
        }
      }
    },
    {
      "cell_type": "code",
      "source": [],
      "outputs": [],
      "execution_count": null,
      "metadata": {
        "jupyter": {
          "source_hidden": false,
          "outputs_hidden": false
        },
        "nteract": {
          "transient": {
            "deleting": false
          }
        }
      }
    }
  ],
  "metadata": {
    "kernelspec": {
      "name": "python310-sdkv2",
      "language": "python",
      "display_name": "Python 3.10 - SDK v2"
    },
    "language_info": {
      "name": "python",
      "version": "3.10.14",
      "mimetype": "text/x-python",
      "codemirror_mode": {
        "name": "ipython",
        "version": 3
      },
      "pygments_lexer": "ipython3",
      "nbconvert_exporter": "python",
      "file_extension": ".py"
    },
    "microsoft": {
      "ms_spell_check": {
        "ms_spell_check_language": "en"
      },
      "host": {
        "AzureML": {
          "notebookHasBeenCompleted": true
        }
      }
    },
    "kernel_info": {
      "name": "python310-sdkv2"
    },
    "nteract": {
      "version": "nteract-front-end@1.0.0"
    }
  },
  "nbformat": 4,
  "nbformat_minor": 2
}