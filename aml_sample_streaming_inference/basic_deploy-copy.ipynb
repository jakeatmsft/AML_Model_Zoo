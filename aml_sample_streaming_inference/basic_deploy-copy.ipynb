{
  "cells": [
    {
      "cell_type": "markdown",
      "source": [],
      "metadata": {}
    },
    {
      "attachments": {},
      "cell_type": "markdown",
      "source": [
        "# 1. Connect to Azure Machine Learning"
      ],
      "metadata": {}
    },
    {
      "attachments": {},
      "cell_type": "markdown",
      "source": [
        "### 1.2 Set workspace details"
      ],
      "metadata": {}
    },
    {
      "cell_type": "code",
      "source": [
        "# enter details of your AML workspace\n",
        "SUBSCRIPTION_ID = \"subid\"\n",
        "RESOURCE_GROUP = \"rg\"\n",
        "AML_WORKSPACE_NAME = \"workspace\"\n",
        "AZURE_AI_SERVICES_NAME = \"<AZURE_AI_SERVICES_NAME>\""
      ],
      "outputs": [],
      "execution_count": 1,
      "metadata": {
        "gather": {
          "logged": 1727302838908
        }
      }
    },
    {
      "attachments": {},
      "cell_type": "markdown",
      "source": [
        "### 1.3 Login to your Azure account"
      ],
      "metadata": {}
    },
    {
      "cell_type": "code",
      "source": [
        "# Authenticate clients\n",
        "from azure.identity import (\n",
        "    DefaultAzureCredential,\n",
        "    InteractiveBrowserCredential,\n",
        "    AzureCliCredential,\n",
        ")\n",
        "from azure.identity import DefaultAzureCredential\n",
        "from azure.ai.ml import MLClient\n",
        "from azure.ai.ml.entities import (\n",
        "    AzureMLOnlineInferencingServer,\n",
        "    ModelPackage,\n",
        "    CodeConfiguration,\n",
        "    BaseEnvironment,\n",
        "    ModelConfiguration,\n",
        ")\n",
        "from azure.ai.ml.entities import (\n",
        "    ManagedOnlineEndpoint,\n",
        "    ManagedOnlineDeployment,\n",
        "    Environment,\n",
        "    Model,\n",
        ")\n",
        "\n",
        "try:\n",
        "    credential = DefaultAzureCredential(additionally_allowed_tenants=[\"*\"])\n",
        "except Exception as ex:\n",
        "    # Fall back to InteractiveBrowserCredential in case DefaultAzureCredential not work\n",
        "    credential = InteractiveBrowserCredential(additionally_allowed_tenants=[\"*\"])\n",
        "\n",
        "# If login doesn't work above, uncomment the code below and login using device code\n",
        "# !az login --use-device-code"
      ],
      "outputs": [],
      "execution_count": 2,
      "metadata": {
        "gather": {
          "logged": 1727304094837
        }
      }
    },
    {
      "attachments": {},
      "cell_type": "markdown",
      "source": [
        "# 2. Managed Online Endpoint"
      ],
      "metadata": {}
    },
    {
      "cell_type": "code",
      "source": [
        "# create a endpoint\n",
        "import datetime\n",
        "\n",
        "from azure.ai.ml.entities import (\n",
        "    ManagedOnlineEndpoint,\n",
        ")\n",
        "\n",
        "from azure.ai.ml import (\n",
        "    MLClient,\n",
        ")\n",
        "\n",
        "from azure.ai.ml.entities import (\n",
        "    ManagedOnlineDeployment,\n",
        "    OnlineRequestSettings,\n",
        "    Model,\n",
        "    Environment,\n",
        ")"
      ],
      "outputs": [],
      "execution_count": 7,
      "metadata": {
        "gather": {
          "logged": 1727304118270
        }
      }
    },
    {
      "cell_type": "code",
      "source": [
        "time = str(datetime.datetime.now().strftime(\"%m%d%H%M%f\"))"
      ],
      "outputs": [],
      "execution_count": 8,
      "metadata": {
        "jupyter": {
          "source_hidden": false,
          "outputs_hidden": false
        },
        "nteract": {
          "transient": {
            "deleting": false
          }
        },
        "gather": {
          "logged": 1727304119026
        }
      }
    },
    {
      "cell_type": "code",
      "source": [
        "online_endpoint_name = f\"aml-llm-lc-demo-{time}\"\n",
        "\n",
        "\n",
        "# get a handle to the workspace\n",
        "ml_client = MLClient(credential, SUBSCRIPTION_ID, RESOURCE_GROUP, AML_WORKSPACE_NAME)"
      ],
      "outputs": [],
      "execution_count": 9,
      "metadata": {
        "jupyter": {
          "source_hidden": false,
          "outputs_hidden": false
        },
        "nteract": {
          "transient": {
            "deleting": false
          }
        },
        "gather": {
          "logged": 1727304120279
        }
      }
    },
    {
      "cell_type": "code",
      "source": [
        "# create an online endpoint\n",
        "endpoint = ManagedOnlineEndpoint(\n",
        "    name=online_endpoint_name,\n",
        "    description=\"online endpoint for streaming example\",\n",
        "    auth_mode=\"key\",\n",
        ")\n",
        "\n",
        "endpoint = ml_client.begin_create_or_update(endpoint).result()\n",
        "\n",
        "print(endpoint)"
      ],
      "outputs": [
        {
          "output_type": "stream",
          "name": "stdout",
          "text": "auth_mode: key\ndescription: online endpoint for streaming example\nid: /subscriptions/6025ba02-1dfd-407f-b358-88f811c7c7aa/resourceGroups/sc1-ml1/providers/Microsoft.MachineLearningServices/workspaces/sc1ml1/onlineEndpoints/aml-llm-lc-demo-09252220167763\nidentity:\n  principal_id: 6ad1fbd2-06d6-4f9d-8a3b-dccce08fbdef\n  tenant_id: 16b3c013-d300-468d-ac64-7eda0820b6d3\n  type: system_assigned\nkind: Managed\nlocation: southcentralus\nmirror_traffic: {}\nname: aml-llm-lc-demo-09252220167763\nopenapi_uri: https://aml-llm-lc-demo-09252220167763.southcentralus.inference.ml.azure.com/swagger.json\nproperties:\n  AzureAsyncOperationUri: https://management.azure.com/subscriptions/6025ba02-1dfd-407f-b358-88f811c7c7aa/providers/Microsoft.MachineLearningServices/locations/southcentralus/mfeOperationsStatus/oeidp:a2f597f4-1a31-4e25-9c39-aa7e2d3b6df0:44af2992-ed84-46d8-8c44-c9f0dd0b5963?api-version=2022-02-01-preview\n  azureml.onlineendpointid: /subscriptions/6025ba02-1dfd-407f-b358-88f811c7c7aa/resourcegroups/sc1-ml1/providers/microsoft.machinelearningservices/workspaces/sc1ml1/onlineendpoints/aml-llm-lc-demo-09252220167763\n  createdAt: 2024-09-25T22:20:50.517328+0000\n  createdBy: Jake Wang\n  lastModifiedAt: 2024-09-25T22:20:50.517328+0000\nprovisioning_state: Succeeded\npublic_network_access: enabled\nscoring_uri: https://aml-llm-lc-demo-09252220167763.southcentralus.inference.ml.azure.com/score\ntags: {}\ntraffic: {}\n\n"
        }
      ],
      "execution_count": 6,
      "metadata": {
        "jupyter": {
          "source_hidden": false,
          "outputs_hidden": false
        },
        "nteract": {
          "transient": {
            "deleting": false
          }
        },
        "gather": {
          "logged": 1727302912596
        }
      }
    },
    {
      "cell_type": "code",
      "source": [
        "# assign the Cognitive Services User role to the endpoint\n",
        "endpoint_principal_id = endpoint.identity.principal_id\n",
        "!az role assignment create --assignee-principal-type ServicePrincipal --assignee-object-id {endpoint_principal_id} --role \"Cognitive Services User\" --scope /subscriptions/{SUBSCRIPTION_ID}/resourceGroups/{RESOURCE_GROUP}/providers/Microsoft.CognitiveServices/accounts/{AZURE_AI_SERVICES_NAME}"
      ],
      "outputs": [
        {
          "output_type": "stream",
          "name": "stdout",
          "text": "/bin/bash: -c: line 0: syntax error near unexpected token `newline'\r\n/bin/bash: -c: line 0: `az role assignment create --assignee-principal-type ServicePrincipal --assignee-object-id b06d0fcb-bf08-4327-bdea-147c6a27fcda --role \"Cognitive Services User\" --scope /subscriptions/6025ba02-1dfd-407f-b358-88f811c7c7aa/resourceGroups/sc1-ml1/providers/Microsoft.CognitiveServices/accounts/<AZURE_AI_SERVICES_NAME>'\r\n"
        }
      ],
      "execution_count": 4,
      "metadata": {
        "gather": {
          "logged": 1726595838232
        }
      }
    },
    {
      "cell_type": "markdown",
      "source": [
        "### Register Model"
      ],
      "metadata": {}
    },
    {
      "cell_type": "code",
      "source": [
        "#Register model to workspace model registry\n",
        "model=Model(name=\"stream_demo\",path=\"./src\")\n",
        "ml_client.models.create_or_update(model)\n",
        "\n",
        "reg_model = ml_client.models.get(\"stream_demo\", label=\"latest\")"
      ],
      "outputs": [
        {
          "output_type": "stream",
          "name": "stderr",
          "text": "\u001b[32mUploading src (0.0 MBs): 100%|██████████| 1635/1635 [00:00<00:00, 15248.32it/s]\n\u001b[39m\n\n"
        }
      ],
      "execution_count": 11,
      "metadata": {
        "jupyter": {
          "source_hidden": false,
          "outputs_hidden": false
        },
        "nteract": {
          "transient": {
            "deleting": false
          }
        },
        "gather": {
          "logged": 1727304146777
        }
      }
    },
    {
      "attachments": {},
      "cell_type": "markdown",
      "source": [
        "# 3. Deploy to Endpoint"
      ],
      "metadata": {}
    },
    {
      "cell_type": "code",
      "source": [
        "reg_env = Environment(\n",
        "    image=\"FROM mcr.microsoft.com/azureml/inference-base-2204:20240916.v1\",\n",
        "    conda_file=\"./env/conda_dependencies.yaml\",\n",
        "    name=\"stream_env_example\",\n",
        "    description=\"Environment created from a Docker image plus Conda environment.\",\n",
        ")\n",
        "ml_client.environments.create_or_update(reg_env)"
      ],
      "outputs": [
        {
          "output_type": "execute_result",
          "execution_count": 12,
          "data": {
            "text/plain": "Environment({'arm_type': 'environment_version', 'latest_version': None, 'image': 'mcr.microsoft.com/azureml/inference-base-2204', 'intellectual_property': None, 'is_anonymous': False, 'auto_increment_version': False, 'auto_delete_setting': None, 'name': 'stream_env_example', 'description': 'Environment created from a Docker image plus Conda environment.', 'tags': {}, 'properties': {'azureml.labels': 'latest'}, 'print_as_yaml': False, 'id': '/subscriptions/6025ba02-1dfd-407f-b358-88f811c7c7aa/resourceGroups/sc1-ml1/providers/Microsoft.MachineLearningServices/workspaces/sc1ml1/environments/stream_env_example/versions/1', 'Resource__source_path': '', 'base_path': '/mnt/batch/tasks/shared/LS_root/mounts/clusters/jacwang1/code/Users/jacwang/sample_streaming_aml_inference', 'creation_context': <azure.ai.ml.entities._system_data.SystemData object at 0x7fcb14b3ec50>, 'serialize': <msrest.serialization.Serializer object at 0x7fcb14b3dc90>, 'version': '1', 'conda_file': {'channels': ['conda-forge', 'anaconda'], 'dependencies': ['python=3.11', 'pip=24.0', {'pip': ['azureml-inference-server-http==1.3.2', 'numpy==2.1.1', 'azureml-contrib-services']}], 'name': 'minimal'}, 'build': None, 'inference_config': None, 'os_type': 'Linux', 'conda_file_path': None, 'path': None, 'datastore': None, 'upload_hash': None, 'translated_conda_file': '{\\n  \"channels\": [\\n    \"conda-forge\",\\n    \"anaconda\"\\n  ],\\n  \"dependencies\": [\\n    \"python=3.11\",\\n    \"pip=24.0\",\\n    {\\n      \"pip\": [\\n        \"azureml-inference-server-http==1.3.2\",\\n        \"numpy==2.1.1\",\\n        \"azureml-contrib-services\"\\n      ]\\n    }\\n  ],\\n  \"name\": \"minimal\"\\n}'})"
          },
          "metadata": {}
        }
      ],
      "execution_count": 12,
      "metadata": {
        "jupyter": {
          "source_hidden": false,
          "outputs_hidden": false
        },
        "nteract": {
          "transient": {
            "deleting": false
          }
        },
        "gather": {
          "logged": 1727304405287
        }
      }
    },
    {
      "cell_type": "code",
      "source": [
        "reg_env = ml_client.environments.get(\"stream_env_example\", label=\"latest\")"
      ],
      "outputs": [],
      "execution_count": 13,
      "metadata": {
        "jupyter": {
          "source_hidden": false,
          "outputs_hidden": false
        },
        "nteract": {
          "transient": {
            "deleting": false
          }
        },
        "gather": {
          "logged": 1727304800623
        }
      }
    },
    {
      "cell_type": "code",
      "source": [
        "reg_model =  ml_client.models.get(\"stream_demo\", label=\"latest\")"
      ],
      "outputs": [],
      "execution_count": 14,
      "metadata": {
        "jupyter": {
          "source_hidden": false,
          "outputs_hidden": false
        },
        "nteract": {
          "transient": {
            "deleting": false
          }
        },
        "gather": {
          "logged": 1727304801600
        }
      }
    },
    {
      "cell_type": "code",
      "source": [
        "deployment_name = f\"deploy-{time}-4\"\n",
        "lc_deployment = ManagedOnlineDeployment(\n",
        "    name=deployment_name,\n",
        "    environment=reg_env,\n",
        "    model=reg_model,\n",
        "    code_configuration=CodeConfiguration(code=\"src\", scoring_script=\"score.py\"),\n",
        "    request_settings=OnlineRequestSettings(request_timeout_ms=60000),\n",
        "    endpoint_name= online_endpoint_name,\n",
        "    instance_type=\"Standard_F2s_v2\",\n",
        "    instance_count=1,\n",
        ")\n",
        "ml_client.online_deployments.begin_create_or_update(lc_deployment).result()\n",
        "\n",
        "endpoint.traffic = {deployment_name: 100}\n",
        "ml_client.begin_create_or_update(endpoint).result()"
      ],
      "outputs": [
        {
          "output_type": "stream",
          "name": "stderr",
          "text": "Check: endpoint aml-llm-lc-demo-09252220167763 exists\n\u001b[32mUploading src (0.0 MBs): 100%|██████████| 1635/1635 [00:00<00:00, 46802.48it/s]\n\u001b[39m\n\n"
        },
        {
          "output_type": "stream",
          "name": "stdout",
          "text": ".........................................................................."
        },
        {
          "output_type": "error",
          "ename": "NameError",
          "evalue": "name 'endpoint' is not defined",
          "traceback": [
            "\u001b[0;31m---------------------------------------------------------------------------\u001b[0m",
            "\u001b[0;31mNameError\u001b[0m                                 Traceback (most recent call last)",
            "Cell \u001b[0;32mIn[16], line 14\u001b[0m\n\u001b[1;32m      2\u001b[0m lc_deployment \u001b[38;5;241m=\u001b[39m ManagedOnlineDeployment(\n\u001b[1;32m      3\u001b[0m     name\u001b[38;5;241m=\u001b[39mdeployment_name,\n\u001b[1;32m      4\u001b[0m     environment\u001b[38;5;241m=\u001b[39mreg_env,\n\u001b[0;32m   (...)\u001b[0m\n\u001b[1;32m     10\u001b[0m     instance_count\u001b[38;5;241m=\u001b[39m\u001b[38;5;241m1\u001b[39m,\n\u001b[1;32m     11\u001b[0m )\n\u001b[1;32m     12\u001b[0m ml_client\u001b[38;5;241m.\u001b[39monline_deployments\u001b[38;5;241m.\u001b[39mbegin_create_or_update(lc_deployment)\u001b[38;5;241m.\u001b[39mresult()\n\u001b[0;32m---> 14\u001b[0m \u001b[43mendpoint\u001b[49m\u001b[38;5;241m.\u001b[39mtraffic \u001b[38;5;241m=\u001b[39m {deployment_name: \u001b[38;5;241m100\u001b[39m}\n\u001b[1;32m     15\u001b[0m ml_client\u001b[38;5;241m.\u001b[39mbegin_create_or_update(endpoint)\u001b[38;5;241m.\u001b[39mresult()\n",
            "\u001b[0;31mNameError\u001b[0m: name 'endpoint' is not defined"
          ]
        }
      ],
      "execution_count": 16,
      "metadata": {
        "jupyter": {
          "source_hidden": false,
          "outputs_hidden": false
        },
        "nteract": {
          "transient": {
            "deleting": false
          }
        },
        "gather": {
          "logged": 1727305229285
        }
      }
    },
    {
      "attachments": {},
      "cell_type": "markdown",
      "source": [
        "# 4. Test\n",
        "Now endpoint has been deployed, let's test it."
      ],
      "metadata": {}
    },
    {
      "cell_type": "code",
      "source": [
        "import urllib.request\n",
        "import json\n",
        "import os\n",
        "import ssl\n",
        "import requests\n",
        "\n",
        "def allowSelfSignedHttps(allowed):\n",
        "    # bypass the server certificate verification on client side\n",
        "    if allowed and not os.environ.get('PYTHONHTTPSVERIFY', '') and getattr(ssl, '_create_unverified_context', None):\n",
        "        ssl._create_default_https_context = ssl._create_unverified_context\n",
        "\n",
        "allowSelfSignedHttps(True) # this line is needed if you use self-signed certificate in your scoring service.\n",
        "\n",
        "data = {}\n",
        "\n",
        "body = str.encode(json.dumps(data))\n",
        "\n",
        "url = 'https://endpoint/score'\n",
        "# Replace this with the primary/secondary key, AMLToken, or Microsoft Entra ID token for the endpoint\n",
        "api_key = 'key'\n",
        "if not api_key:\n",
        "    raise Exception(\"A key should be provided to invoke the endpoint\")\n",
        "\n",
        "headers = {'Content-Type':'application/json', 'Authorization':('Bearer '+ api_key)}\n",
        "\n",
        "with requests.get(url=url, headers=headers, stream=True) as r:\n",
        "    for chunk in r.iter_lines():  # or, for line in r.iter_lines():\n",
        "        print(chunk, end='')"
      ],
      "outputs": [
        {
          "output_type": "stream",
          "name": "stdout",
          "text": "b'start:'b'Lorem,'b'ipsum,'b'dolor,'b'sit,'b'amet,,'b'consectetur,'b'adipiscing,'b'elit.,'b'Sed,'b'do,'b'eiusmod,'b'tempor,'b'incididunt,'b'ut,'b'labore,'b'et,'b'dolore,'b'magna,'b'aliqua.,'b'Ut,'b'enim,'b'ad,'b'minim,'b'veniam,,'b'quis,'b'nostrud,'b'exercitation,'b'ullamco,'b'laboris,'b'nisi,'b'ut,'b'aliquip,'b'ex,'b'ea,'b'commodo,'b'consequat.,'"
        }
      ],
      "execution_count": 20,
      "metadata": {
        "gather": {
          "logged": 1727305489398
        }
      }
    },
    {
      "cell_type": "markdown",
      "source": [
        "# 5. Clean up resources"
      ],
      "metadata": {}
    },
    {
      "cell_type": "code",
      "source": [
        "ml_client.online_endpoints.begin_delete(name=online_endpoint_name)"
      ],
      "outputs": [
        {
          "output_type": "execute_result",
          "execution_count": 21,
          "data": {
            "text/plain": "<azure.core.polling._poller.LROPoller at 0x7fcaeeb04b20>"
          },
          "metadata": {}
        }
      ],
      "execution_count": 21,
      "metadata": {
        "gather": {
          "logged": 1727305508226
        }
      }
    }
  ],
  "metadata": {
    "kernelspec": {
      "name": "python310-sdkv2",
      "language": "python",
      "display_name": "Python 3.10 - SDK v2"
    },
    "language_info": {
      "name": "python",
      "version": "3.10.14",
      "mimetype": "text/x-python",
      "codemirror_mode": {
        "name": "ipython",
        "version": 3
      },
      "pygments_lexer": "ipython3",
      "nbconvert_exporter": "python",
      "file_extension": ".py"
    },
    "microsoft": {
      "ms_spell_check": {
        "ms_spell_check_language": "en"
      },
      "host": {
        "AzureML": {
          "notebookHasBeenCompleted": true
        }
      }
    },
    "kernel_info": {
      "name": "python310-sdkv2"
    },
    "nteract": {
      "version": "nteract-front-end@1.0.0"
    }
  },
  "nbformat": 4,
  "nbformat_minor": 2
}