{
  "cells": [
    {
      "cell_type": "code",
      "execution_count": 2,
      "metadata": {
        "gather": {
          "logged": 1717688134126
        }
      },
      "outputs": [],
      "source": [
        "# Python\n",
        "from azure.identity import DefaultAzureCredential, InteractiveBrowserCredential\n",
        "from azure.ai.ml import MLClient, Input, load_component, command\n",
        "from azure.ai.ml.dsl import pipeline\n",
        "from azure.ai.ml.entities import JobService"
      ]
    },
    {
      "cell_type": "code",
      "execution_count": 3,
      "metadata": {
        "gather": {
          "logged": 1717688134613
        },
        "jupyter": {
          "outputs_hidden": false,
          "source_hidden": false
        },
        "nteract": {
          "transient": {
            "deleting": false
          }
        }
      },
      "outputs": [],
      "source": [
        "try:\n",
        "    credential = DefaultAzureCredential()\n",
        "    # Check if given credential can get token successfully.\n",
        "    credential.get_token(\"https://management.azure.com/.default\")\n",
        "except Exception as ex:\n",
        "    # Fall back to InteractiveBrowserCredential in case DefaultAzureCredential not work\n",
        "    credential = InteractiveBrowserCredential()"
      ]
    },
    {
      "cell_type": "code",
      "execution_count": 4,
      "metadata": {
        "gather": {
          "logged": 1717688134921
        },
        "jupyter": {
          "outputs_hidden": false,
          "source_hidden": false
        },
        "nteract": {
          "transient": {
            "deleting": false
          }
        }
      },
      "outputs": [
        {
          "name": "stderr",
          "output_type": "stream",
          "text": [
            "Found the config file in: /config.json\n"
          ]
        },
        {
          "name": "stdout",
          "output_type": "stream",
          "text": [
            "MLClient(credential=<azure.identity._credentials.default.DefaultAzureCredential object at 0x7fcfca4f4dc0>,\n",
            "         subscription_id=6025ba02-1dfd-407f-b358-88f811c7c7aa,\n",
            "         resource_group_name=sc1-ml1,\n",
            "         workspace_name=sc1ml1)\n"
          ]
        }
      ],
      "source": [
        "# Get a handle to workspace\n",
        "ml_client = MLClient.from_config(credential=credential)\n",
        "\n",
        "print(ml_client)"
      ]
    },
    {
      "cell_type": "code",
      "execution_count": 5,
      "metadata": {
        "gather": {
          "logged": 1717688180287
        },
        "jupyter": {
          "outputs_hidden": false,
          "source_hidden": false
        },
        "nteract": {
          "transient": {
            "deleting": false
          }
        }
      },
      "outputs": [],
      "source": [
        "parent_dir = \".\"\n",
        "download_model = load_component(source=parent_dir + \"/model_download.yaml\")\n",
        "package_model = load_component(source=parent_dir + \"/package_model.yaml\")\n",
        "update_model_env = load_component(source=parent_dir + \"/update_model_env.yaml\")"
      ]
    },
    {
      "cell_type": "code",
      "execution_count": 6,
      "metadata": {
        "gather": {
          "logged": 1717688182649
        },
        "jupyter": {
          "outputs_hidden": false,
          "source_hidden": false
        },
        "nteract": {
          "transient": {
            "deleting": false
          }
        }
      },
      "outputs": [],
      "source": [
        "# Construct pipeline\n",
        "@pipeline()\n",
        "def import_model_pipeline(\n",
        "registry: str = \"azureml\",\n",
        "model_name: str = 'model',\n",
        "model_version: str = 'latest'\n",
        "\n",
        "\n",
        "):\n",
        "    \"\"\"E2E dummy train-score-eval pipeline with components defined via yaml.\"\"\"\n",
        "    # Call component obj as function: apply given inputs & parameters to create a node in pipeline\n",
        "    download_model_output = download_model(\n",
        "        registry=registry,\n",
        "        model_name=model_name\n",
        "    )\n",
        "    \"\"\"E2E dummy train-score-eval pipeline with components defined via yaml.\"\"\"\n",
        "    # Call component obj as function: apply given inputs & parameters to create a node in pipeline\n",
        "    package_model_output = package_model(\n",
        "        model_name=model_name,\n",
        "        model_version=model_version,\n",
        "        model_download=download_model_output.outputs.model_output\n",
        "    )\n",
        "\n",
        "    update_model_env_output = update_model_env(\n",
        "        model_package=package_model_output.outputs.model_output\n",
        "    )\n",
        "    # Return: pipeline outputs\n",
        "    return {\n",
        "        \"download_model\": download_model_output.outputs.model_output,\n",
        "        \"package_model\": package_model_output.outputs.model_output,\n",
        "        \"update_model_env\": update_model_env_output.outputs.model_output\n",
        "    }\n",
        "\n",
        "\n",
        "pipeline_job = import_model_pipeline(\n",
        "    registry='azureml',\n",
        "    model_name='Deci-DeciLM-7B',\n",
        "    model_version='latest'\n",
        ")\n",
        "\n",
        "# set pipeline level compute\n",
        "pipeline_job.settings.default_compute = \"model-download-cluster1\""
      ]
    },
    {
      "cell_type": "code",
      "execution_count": 7,
      "metadata": {
        "gather": {
          "logged": 1717687353149
        },
        "jupyter": {
          "outputs_hidden": false,
          "source_hidden": false
        },
        "nteract": {
          "transient": {
            "deleting": false
          }
        }
      },
      "outputs": [
        {
          "name": "stderr",
          "output_type": "stream",
          "text": [
            "Class AutoDeleteSettingSchema: This is an experimental class, and may change at any time. Please see https://aka.ms/azuremlexperimental for more information.\n",
            "Class AutoDeleteConditionSchema: This is an experimental class, and may change at any time. Please see https://aka.ms/azuremlexperimental for more information.\n",
            "Class BaseAutoDeleteSettingSchema: This is an experimental class, and may change at any time. Please see https://aka.ms/azuremlexperimental for more information.\n",
            "Class IntellectualPropertySchema: This is an experimental class, and may change at any time. Please see https://aka.ms/azuremlexperimental for more information.\n",
            "Class ProtectionLevelSchema: This is an experimental class, and may change at any time. Please see https://aka.ms/azuremlexperimental for more information.\n",
            "Class BaseIntellectualPropertySchema: This is an experimental class, and may change at any time. Please see https://aka.ms/azuremlexperimental for more information.\n",
            "\u001b[32mUploading model_pipeline_src (0.03 MBs): 100%|████████████████████████████████████████████████████████████████████████████████████████████████████████████████████████████████████████████████████████████████████████████████████████████████████████████████████████████████████████████████████████████████████████████████████████████████████████████████████████████████████████████████████████████████████████████████████████████████████████████████████████████████████████████████████████████████████████████████████████████████████████████████████████████████████████████████████████████████████████████████████████████████████████████████████████████████████████████████████████████████████████████████████████████████████████████████████████████████████████████████████████████████████████████████████████████████████████████████████████████████████████████████████████████████████████████████████████████████████████████████████████████████████████████████| 33883/33883 [00:00<00:00, 95970.23it/s]\u001b[0m\n",
            "\u001b[39m\n",
            "\n"
          ]
        }
      ],
      "source": [
        "# submit the command\n",
        "returned_job = ml_client.create_or_update(pipeline_job)"
      ]
    },
    {
      "cell_type": "code",
      "execution_count": null,
      "metadata": {
        "jupyter": {
          "outputs_hidden": false,
          "source_hidden": false
        },
        "nteract": {
          "transient": {
            "deleting": false
          }
        }
      },
      "outputs": [],
      "source": []
    }
  ],
  "metadata": {
    "kernel_info": {
      "name": "python310-sdkv2"
    },
    "kernelspec": {
      "display_name": "azureml_py310_sdkv2",
      "language": "python",
      "name": "python3"
    },
    "language_info": {
      "codemirror_mode": {
        "name": "ipython",
        "version": 3
      },
      "file_extension": ".py",
      "mimetype": "text/x-python",
      "name": "python",
      "nbconvert_exporter": "python",
      "pygments_lexer": "ipython3",
      "version": "3.10.11"
    },
    "microsoft": {
      "host": {
        "AzureML": {
          "notebookHasBeenCompleted": true
        }
      },
      "ms_spell_check": {
        "ms_spell_check_language": "en"
      }
    },
    "nteract": {
      "version": "nteract-front-end@1.0.0"
    }
  },
  "nbformat": 4,
  "nbformat_minor": 2
}
